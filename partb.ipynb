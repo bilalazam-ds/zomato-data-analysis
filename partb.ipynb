{
 "cells": [
  {
   "cell_type": "markdown",
   "metadata": {},
   "source": [
    "PART B"
   ]
  },
  {
   "cell_type": "code",
   "execution_count": 29,
   "metadata": {},
   "outputs": [],
   "source": [
    "# Importing the necessary libraries\n",
    "\n",
    "import numpy as np\n",
    "import geopandas\n",
    "import pandas as pd\n",
    "from shapely.geometry import Point\n",
    "from sklearn.preprocessing import LabelEncoder"
   ]
  },
  {
   "cell_type": "markdown",
   "metadata": {},
   "source": [
    "### Importing Zomato DataFrame for Sydney"
   ]
  },
  {
   "cell_type": "code",
   "execution_count": 30,
   "metadata": {},
   "outputs": [],
   "source": [
    "df_main = pd.read_csv(\"./data/zomato_df_final_data.csv\")"
   ]
  },
  {
   "cell_type": "markdown",
   "metadata": {},
   "source": [
    "### Dropping Unwanted columns\n",
    "\n",
    "The dataset appears to contain information where each entry includes an address, link, phone number, and title, which are standard details for a location or business. However, it's unclear why the dataset also includes fields for color and cuisine_color, as they may not be relevant for the current analysis. For the first regression analysis, we will exclude the rating_text field, as it likely does not contribute useful numerical data for regression purposes. Additionally, the lat (latitude) and lng (longitude) fields will not be necessary since we'll be using subzone as a geographic identifier instead."
   ]
  },
  {
   "cell_type": "code",
   "execution_count": 31,
   "metadata": {},
   "outputs": [],
   "source": [
    "df = df_main.drop(columns = [\"address\", \"link\", \"phone\", \"title\", \"color\", \"cuisine_color\", \"lat\", \"lng\"], axis = 1)"
   ]
  },
  {
   "cell_type": "code",
   "execution_count": 32,
   "metadata": {},
   "outputs": [
    {
     "data": {
      "text/html": [
       "<div>\n",
       "<style scoped>\n",
       "    .dataframe tbody tr th:only-of-type {\n",
       "        vertical-align: middle;\n",
       "    }\n",
       "\n",
       "    .dataframe tbody tr th {\n",
       "        vertical-align: top;\n",
       "    }\n",
       "\n",
       "    .dataframe thead th {\n",
       "        text-align: right;\n",
       "    }\n",
       "</style>\n",
       "<table border=\"1\" class=\"dataframe\">\n",
       "  <thead>\n",
       "    <tr style=\"text-align: right;\">\n",
       "      <th></th>\n",
       "      <th>cost</th>\n",
       "      <th>cuisine</th>\n",
       "      <th>rating_number</th>\n",
       "      <th>rating_text</th>\n",
       "      <th>subzone</th>\n",
       "      <th>type</th>\n",
       "      <th>votes</th>\n",
       "      <th>groupon</th>\n",
       "      <th>cost_2</th>\n",
       "    </tr>\n",
       "  </thead>\n",
       "  <tbody>\n",
       "    <tr>\n",
       "      <th>0</th>\n",
       "      <td>50.0</td>\n",
       "      <td>['Hot Pot', 'Korean BBQ', 'BBQ', 'Korean']</td>\n",
       "      <td>4.0</td>\n",
       "      <td>Very Good</td>\n",
       "      <td>CBD</td>\n",
       "      <td>['Casual Dining']</td>\n",
       "      <td>1311.0</td>\n",
       "      <td>False</td>\n",
       "      <td>5.243902</td>\n",
       "    </tr>\n",
       "    <tr>\n",
       "      <th>1</th>\n",
       "      <td>80.0</td>\n",
       "      <td>['Cafe', 'Coffee and Tea', 'Salad', 'Poké']</td>\n",
       "      <td>4.6</td>\n",
       "      <td>Excellent</td>\n",
       "      <td>The Grounds of Alexandria, Alexandria</td>\n",
       "      <td>['Café']</td>\n",
       "      <td>3236.0</td>\n",
       "      <td>False</td>\n",
       "      <td>7.560976</td>\n",
       "    </tr>\n",
       "    <tr>\n",
       "      <th>2</th>\n",
       "      <td>120.0</td>\n",
       "      <td>['Japanese']</td>\n",
       "      <td>4.9</td>\n",
       "      <td>Excellent</td>\n",
       "      <td>The Star, Pyrmont</td>\n",
       "      <td>['Fine Dining']</td>\n",
       "      <td>1227.0</td>\n",
       "      <td>False</td>\n",
       "      <td>10.650407</td>\n",
       "    </tr>\n",
       "  </tbody>\n",
       "</table>\n",
       "</div>"
      ],
      "text/plain": [
       "    cost                                      cuisine  rating_number  \\\n",
       "0   50.0   ['Hot Pot', 'Korean BBQ', 'BBQ', 'Korean']            4.0   \n",
       "1   80.0  ['Cafe', 'Coffee and Tea', 'Salad', 'Poké']            4.6   \n",
       "2  120.0                                 ['Japanese']            4.9   \n",
       "\n",
       "  rating_text                                subzone               type  \\\n",
       "0   Very Good                                    CBD  ['Casual Dining']   \n",
       "1   Excellent  The Grounds of Alexandria, Alexandria           ['Café']   \n",
       "2   Excellent                      The Star, Pyrmont    ['Fine Dining']   \n",
       "\n",
       "    votes  groupon     cost_2  \n",
       "0  1311.0    False   5.243902  \n",
       "1  3236.0    False   7.560976  \n",
       "2  1227.0    False  10.650407  "
      ]
     },
     "execution_count": 32,
     "metadata": {},
     "output_type": "execute_result"
    }
   ],
   "source": [
    "df.head(3)"
   ]
  },
  {
   "cell_type": "markdown",
   "metadata": {},
   "source": [
    "### Feature Engineering"
   ]
  },
  {
   "cell_type": "code",
   "execution_count": 33,
   "metadata": {},
   "outputs": [
    {
     "data": {
      "text/plain": [
       "cost              346\n",
       "rating_number    3316\n",
       "rating_text      3316\n",
       "type               48\n",
       "votes            3316\n",
       "cost_2            346\n",
       "dtype: int64"
      ]
     },
     "execution_count": 33,
     "metadata": {},
     "output_type": "execute_result"
    }
   ],
   "source": [
    "# Display the count of missing values in each column with better formatting\n",
    "missing_values = df.isna().sum()\n",
    "\n",
    "# Display only the columns with missing values\n",
    "missing_values[missing_values > 0]\n"
   ]
  },
  {
   "cell_type": "markdown",
   "metadata": {},
   "source": [
    "### Fixing Subzone Column\n",
    "Subzone has comma separate values which are not correct. We need to extract Suburbs names only from those values and fix the column"
   ]
  },
  {
   "cell_type": "code",
   "execution_count": 34,
   "metadata": {},
   "outputs": [
    {
     "name": "stdout",
     "output_type": "stream",
     "text": [
      "Number of subzones containing a comma: 1359\n",
      "Number of unique subzones: 572\n",
      "Number of subzones after cleanup: 339\n"
     ]
    }
   ],
   "source": [
    "# Count the number of rows where the 'subzone' column contains a comma\n",
    "comma_subzone_count = df['subzone'].str.contains(\",\").sum()\n",
    "\n",
    "# Display the result\n",
    "print(f\"Number of subzones containing a comma: {comma_subzone_count}\")\n",
    "\n",
    "# Get the number of unique subzones in the dataset\n",
    "unique_subzones_count = df_main['subzone'].nunique()\n",
    "\n",
    "# Display the result\n",
    "print(f\"Number of unique subzones: {unique_subzones_count}\")\n",
    "\n",
    "df['subzone'] = df['subzone'].apply(lambda x: x.split(',')[-1].strip() if ',' in x else x)\n",
    "\n",
    "print(f\"Number of subzones after cleanup: {len(df.subzone.unique())}\")"
   ]
  },
  {
   "cell_type": "markdown",
   "metadata": {},
   "source": [
    "### Finding Null / NaN values\n",
    "Lets find NULL or NaN values in out dataset"
   ]
  },
  {
   "cell_type": "code",
   "execution_count": 35,
   "metadata": {},
   "outputs": [
    {
     "data": {
      "text/plain": [
       "cost             103\n",
       "cuisine            0\n",
       "rating_number      0\n",
       "rating_text        0\n",
       "subzone            0\n",
       "type              21\n",
       "votes              0\n",
       "groupon            0\n",
       "cost_2           103\n",
       "dtype: int64"
      ]
     },
     "execution_count": 35,
     "metadata": {},
     "output_type": "execute_result"
    }
   ],
   "source": [
    "df.isna().sum()\n",
    "df.dropna(subset=['rating_number'], inplace=True)\n",
    "df.isna().sum()"
   ]
  },
  {
   "cell_type": "markdown",
   "metadata": {},
   "source": [
    "Perform Label-encoding on Subzone column:"
   ]
  },
  {
   "cell_type": "code",
   "execution_count": 36,
   "metadata": {},
   "outputs": [
    {
     "data": {
      "text/plain": [
       "0     46\n",
       "1      1\n",
       "2    225\n",
       "3     68\n",
       "4     66\n",
       "Name: encoded_subzone, dtype: int64"
      ]
     },
     "execution_count": 36,
     "metadata": {},
     "output_type": "execute_result"
    }
   ],
   "source": [
    "label_encoder = LabelEncoder()\n",
    "df['encoded_subzone'] = label_encoder.fit_transform(df['subzone'])\n",
    "\n",
    "df['encoded_subzone'].head(5)"
   ]
  },
  {
   "cell_type": "markdown",
   "metadata": {},
   "source": [
    "### Fixing Cost and Cost_2 Columns\n",
    "Fill missing values in 'cost' and 'cost_2' columns with the mean of their respective 'subzone' group for standardization"
   ]
  },
  {
   "cell_type": "code",
   "execution_count": 37,
   "metadata": {},
   "outputs": [
    {
     "data": {
      "text/plain": [
       "cost                                             120.0\n",
       "cuisine            ['Cantonese', 'Chinese', 'Yum Cha']\n",
       "rating_number                                      4.5\n",
       "rating_text                                  Excellent\n",
       "type                                 ['Casual Dining']\n",
       "votes                                           1623.0\n",
       "groupon                                          False\n",
       "cost_2                                       10.650407\n",
       "encoded_subzone                                     46\n",
       "Name: 6, dtype: object"
      ]
     },
     "execution_count": 37,
     "metadata": {},
     "output_type": "execute_result"
    }
   ],
   "source": [
    "df[['cost', 'cost_2']] = df.groupby('subzone')[['cost', 'cost_2']].transform(lambda x: x.fillna(x.mean()))\n",
    "\n",
    "# Drop the 'subzone' column\n",
    "df.drop(columns='subzone', inplace=True)\n",
    "\n",
    "df.loc[6]"
   ]
  },
  {
   "cell_type": "markdown",
   "metadata": {},
   "source": [
    "### Dropping Cuisine column\n",
    "Drop the 'cuisine' column because creating 135 one-hot-encoded features is impractical, and 'rating' is not strongly correlated with 'cuisine'\n"
   ]
  },
  {
   "cell_type": "code",
   "execution_count": 38,
   "metadata": {},
   "outputs": [],
   "source": [
    "# Drop the 'cuisine' column\n",
    "df.drop(columns='cuisine', inplace=True)"
   ]
  },
  {
   "cell_type": "markdown",
   "metadata": {},
   "source": [
    "### Fix Type Column:\n",
    "We need to fix type coluumn as it has missing value and perform one-hot encoding the same. We can fix this by most frequently used value. We would like have to fix the string comma separated values."
   ]
  },
  {
   "cell_type": "code",
   "execution_count": 39,
   "metadata": {},
   "outputs": [
    {
     "data": {
      "text/plain": [
       "0         ['Casual Dining']\n",
       "1                  ['Café']\n",
       "2           ['Fine Dining']\n",
       "3    ['Fine Dining', 'Bar']\n",
       "4         ['Casual Dining']\n",
       "Name: type, dtype: object"
      ]
     },
     "execution_count": 39,
     "metadata": {},
     "output_type": "execute_result"
    }
   ],
   "source": [
    "# Fill missing values in the 'type' column with the most common type\n",
    "frequently_used = df[\"type\"].mode()[0]\n",
    "df[\"type\"].fillna(frequently_used).head(5)"
   ]
  },
  {
   "cell_type": "markdown",
   "metadata": {},
   "source": [
    "### ONE HOT ENCODING"
   ]
  },
  {
   "cell_type": "code",
   "execution_count": 40,
   "metadata": {},
   "outputs": [
    {
     "name": "stderr",
     "output_type": "stream",
     "text": [
      "/tmp/ipykernel_451998/3505674292.py:2: FutureWarning: A value is trying to be set on a copy of a DataFrame or Series through chained assignment using an inplace method.\n",
      "The behavior will change in pandas 3.0. This inplace method will never work because the intermediate object on which we are setting values always behaves as a copy.\n",
      "\n",
      "For example, when doing 'df[col].method(value, inplace=True)', try using 'df.method({col: value}, inplace=True)' or df[col] = df[col].method(value) instead, to perform the operation inplace on the original object.\n",
      "\n",
      "\n",
      "  df[\"type\"].fillna(most_frequent, inplace=True)\n"
     ]
    }
   ],
   "source": [
    "most_frequent = df[\"type\"].mode()[0]\n",
    "df[\"type\"].fillna(most_frequent, inplace=True)\n",
    "\n",
    "for value in df[\"type\"]:\n",
    "    get_type(value)\n",
    "\n",
    "import re\n",
    "types = set()\n",
    "\n",
    "#custom function to check all the values\n",
    "def get_type(str):\n",
    "    pattern = r',\\s*' #removing comma(,) followed by immediate space\n",
    "    cleaned_text = re.sub(pattern, '-', str)\n",
    "    pattern2 = r'[\\'\\[\\],]'\n",
    "    cleaned_text = re.sub(pattern2, \"\", cleaned_text)\n",
    "    temp = cleaned_text.split(\"-\")\n",
    "    for type in temp:\n",
    "        types.add(type)\n",
    "\n",
    "# one hot encoding\n",
    "for dining_type in types:\n",
    "    df[f\"is_{dining_type}\"] = df['type'].apply(lambda x: 1 if dining_type in x else 0)\n",
    "df.drop('type', axis=1, inplace=True)"
   ]
  },
  {
   "cell_type": "markdown",
   "metadata": {},
   "source": []
  },
  {
   "cell_type": "markdown",
   "metadata": {},
   "source": [
    "### MODEL 1: REGRESSION ANALYSIS"
   ]
  },
  {
   "cell_type": "code",
   "execution_count": 43,
   "metadata": {},
   "outputs": [
    {
     "name": "stdout",
     "output_type": "stream",
     "text": [
      "Mean Squared Error: 0.15023008107092764\n",
      "R-squared: 0.2375261151490855\n"
     ]
    }
   ],
   "source": [
    "from sklearn.model_selection import train_test_split\n",
    "from sklearn.linear_model import LinearRegression\n",
    "from sklearn.metrics import mean_squared_error, r2_score\n",
    "\n",
    "\n",
    "# X,y\n",
    "X = df.drop(columns=['rating_number', 'rating_text'])  # Features\n",
    "y = df['rating_number']  # Target\n",
    "\n",
    "X_train, X_test, y_train, y_test = train_test_split(X, y, test_size=0.2, random_state=0)\n",
    "\n",
    "model_regression_1 = LinearRegression()\n",
    "model_regression_1.fit(X_train, y_train)\n",
    "\n",
    "# predictions\n",
    "y_pred = model_regression_1.predict(X_test)\n",
    "\n",
    "# Evaluate\n",
    "mse = mean_squared_error(y_test, y_pred)\n",
    "r2 = r2_score(y_test, y_pred)\n",
    "\n",
    "print(\"Mean Squared Error:\", mse)\n",
    "print(\"R-squared:\", r2)"
   ]
  },
  {
   "cell_type": "markdown",
   "metadata": {},
   "source": [
    "### MODEL 2: LINEAR GRADIENT DESCENT "
   ]
  },
  {
   "cell_type": "code",
   "execution_count": 44,
   "metadata": {},
   "outputs": [
    {
     "name": "stdout",
     "output_type": "stream",
     "text": [
      "Mean Squared Error: 0.1614347029693049\n",
      "R-squared: 0.18065846569938682\n"
     ]
    }
   ],
   "source": [
    "from sklearn.linear_model import SGDRegressor\n",
    "from sklearn.preprocessing import StandardScaler\n",
    "\n",
    "# Standardize the features\n",
    "scaler = StandardScaler()\n",
    "X_train_scaled = scaler.fit_transform(X_train)\n",
    "X_test_scaled = scaler.transform(X_test)\n",
    "\n",
    "model_regression_2 = SGDRegressor(loss=\"squared_error\", max_iter=1000, random_state=0)\n",
    "model_regression_2.fit(X_train_scaled, y_train)\n",
    "\n",
    "y_pred = model_regression_2.predict(X_test_scaled)\n",
    "\n",
    "mse = mean_squared_error(y_test, y_pred)\n",
    "r2 = r2_score(y_test, y_pred)\n",
    "\n",
    "print(\"Mean Squared Error:\", mse)\n",
    "print(\"R-squared:\", r2)"
   ]
  },
  {
   "cell_type": "markdown",
   "metadata": {},
   "source": [
    "\n",
    "### MODEL 3: Classification\n"
   ]
  },
  {
   "cell_type": "code",
   "execution_count": 45,
   "metadata": {},
   "outputs": [],
   "source": [
    "df.dropna(subset=[\"rating_text\"], inplace=True)\n",
    "\n",
    "class_mapping = {\n",
    "    \"Poor\": 1,\n",
    "    \"Average\": 1,\n",
    "    \"Good\": 2,\n",
    "    \"Very Good\": 2,\n",
    "    \"Excellent\": 2\n",
    "}\n",
    "df[\"binary_rating\"] = df[\"rating_text\"].map(class_mapping)\n",
    "df = df.drop(columns = [\"rating_text\"], axis = 1)"
   ]
  },
  {
   "cell_type": "code",
   "execution_count": 46,
   "metadata": {},
   "outputs": [
    {
     "name": "stdout",
     "output_type": "stream",
     "text": [
      "Accuracy: 0.9923451635351427\n",
      "Precision: 0.9926160337552743\n",
      "Recall: 0.9957671957671957\n",
      "F1 Score: 0.99418911780243\n",
      "ROC AUC Score: 0.9907697767453865\n",
      "Confusion Matrix:\n",
      " [[941   4]\n",
      " [  7 485]]\n"
     ]
    },
    {
     "name": "stderr",
     "output_type": "stream",
     "text": [
      "/home/luffy/dev/bilal-analysis/.venv/lib/python3.12/site-packages/sklearn/linear_model/_logistic.py:469: ConvergenceWarning: lbfgs failed to converge (status=1):\n",
      "STOP: TOTAL NO. of ITERATIONS REACHED LIMIT.\n",
      "\n",
      "Increase the number of iterations (max_iter) or scale the data as shown in:\n",
      "    https://scikit-learn.org/stable/modules/preprocessing.html\n",
      "Please also refer to the documentation for alternative solver options:\n",
      "    https://scikit-learn.org/stable/modules/linear_model.html#logistic-regression\n",
      "  n_iter_i = _check_optimize_result(\n"
     ]
    }
   ],
   "source": [
    "from sklearn.linear_model import LogisticRegression\n",
    "from sklearn.metrics import accuracy_score, precision_score, recall_score, f1_score, roc_auc_score, confusion_matrix\n",
    "\n",
    "\n",
    "X = df.drop(columns=['binary_rating'])  # Features\n",
    "y = df['binary_rating']  # Target\n",
    "\n",
    "X_train, X_test, y_train, y_test = train_test_split(X, y, test_size=0.2, random_state=0)\n",
    "\n",
    "classification_model_logistic_regression_3 = LogisticRegression()\n",
    "classification_model_logistic_regression_3.fit(X_train, y_train)\n",
    "\n",
    "# predictions\n",
    "y_pred = classification_model_logistic_regression_3.predict(X_test)\n",
    "\n",
    "# Evaluate\n",
    "accuracy = accuracy_score(y_test, y_pred)\n",
    "precision = precision_score(y_test, y_pred)\n",
    "recall = recall_score(y_test, y_pred)\n",
    "f1 = f1_score(y_test, y_pred)\n",
    "roc_auc = roc_auc_score(y_test, y_pred)\n",
    "conf_matrix = confusion_matrix(y_test, y_pred)\n",
    "print(\"Accuracy:\", accuracy)\n",
    "print(\"Precision:\", precision)\n",
    "print(\"Recall:\", recall)\n",
    "print(\"F1 Score:\", f1)\n",
    "print(\"ROC AUC Score:\", roc_auc)\n",
    "print(\"Confusion Matrix:\\n\", conf_matrix)"
   ]
  },
  {
   "cell_type": "markdown",
   "metadata": {},
   "source": [
    "### CONFUSION MATRIX"
   ]
  },
  {
   "cell_type": "code",
   "execution_count": 47,
   "metadata": {},
   "outputs": [
    {
     "data": {
      "image/png": "[encoded data removed]",
      "text/plain": [
       "<Figure size 640x480 with 2 Axes>"
      ]
     },
     "metadata": {},
     "output_type": "display_data"
    }
   ],
   "source": [
    "import seaborn as sns\n",
    "import matplotlib.pyplot as plt\n",
    "\n",
    "sns.heatmap(conf_matrix, annot=True, fmt=\"d\", cmap=\"Blues\")\n",
    "plt.xlabel(\"Predicted\")\n",
    "plt.ylabel(\"Actual\")\n",
    "plt.title(\"Confusion Matrix\")\n",
    "plt.show()"
   ]
  },
  {
   "cell_type": "markdown",
   "metadata": {},
   "source": [
    "The confusion matrix shows a binary classification model's performance, with the actual values on the y-axis and predicted values on the x-axis. The model correctly classified 941 instances of class 0 (true negatives) and 485 instances of class 1 (true positives). There were 4 false positives (class 0 misclassified as class 1) and 7 false negatives (class 1 misclassified as class 0). The matrix indicates that the model is highly accurate, with a low number of misclassifications."
   ]
  }
 ],
 "metadata": {
  "kernelspec": {
   "display_name": ".venv",
   "language": "python",
   "name": "python3"
  },
  "language_info": {
   "codemirror_mode": {
    "name": "ipython",
    "version": 3
   },
   "file_extension": ".py",
   "mimetype": "text/x-python",
   "name": "python",
   "nbconvert_exporter": "python",
   "pygments_lexer": "ipython3",
   "version": "3.12.5"
  }
 },
 "nbformat": 4,
 "nbformat_minor": 2
}
